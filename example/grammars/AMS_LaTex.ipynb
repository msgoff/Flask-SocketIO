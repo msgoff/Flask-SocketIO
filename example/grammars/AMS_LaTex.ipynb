{
 "cells": [
  {
   "cell_type": "code",
   "execution_count": 13,
   "metadata": {},
   "outputs": [],
   "source": [
    "GRAMMAR=\"\"\"    @@grammar::CALC\n",
    "\n",
    "\n",
    "    start = expression $ ;\n",
    "\n",
    "\n",
    "    expression\n",
    "        =\n",
    "        | expression '+' term\n",
    "        | expression '-' term\n",
    "        | term\n",
    "        ;\n",
    "\n",
    "\n",
    "    term\n",
    "        =\n",
    "        | term '*' factor\n",
    "        | term '/' factor\n",
    "        | factor\n",
    "        ;\n",
    "\n",
    "\n",
    "    factor\n",
    "        =\n",
    "        | '(' expression ')'\n",
    "        |  latex \n",
    "        | real\n",
    "        ;\n",
    "\n",
    "\n",
    "    latex \n",
    "        =\n",
    "        |func_log\n",
    "        |func_ln \n",
    "        |func_sin\n",
    "        |func_cos\n",
    "        |func_tan\n",
    "        |func_csc\n",
    "        |func_sec\n",
    "        |func_cot\n",
    "        ;\n",
    "        \n",
    "    l_paren = '(';\n",
    "    r_paren =  ')';\n",
    "    l_brace =  '{';\n",
    "    r_brace = '}';\n",
    "    l_bracket = '[';\n",
    "    r_bracket = ']';\n",
    "  \n",
    "    symbol \n",
    "        = \n",
    "        | variable\n",
    "        | constant\n",
    "        ;\n",
    "        \n",
    "    variable\n",
    "        =\n",
    "        | 'x'\n",
    "        | 'y'\n",
    "        | 'z'\n",
    "    ;\n",
    "    \n",
    "    constant = real ;\n",
    "        \n",
    "    func_log = '\\\\log' (l_paren|l_brace) (expression|variable|constant) (r_paren|r_brace);\n",
    "    func_ln =  \"\\\\ln\" (l_paren|l_brace) (expression|variable|constant) (r_paren|r_brace);\n",
    "    func_sin = \"\\\\sin\" (l_paren|l_brace) (expression|variable|constant) (r_paren|r_brace);\n",
    "    func_cos  = \"\\\\cos\" (l_paren|l_brace) (expression|variable|constant) (r_paren|r_brace);\n",
    "    func_tan  = \"\\\\tan\" (l_paren|l_brace) (expression|variable|constant) (r_paren|r_brace);\n",
    "    func_csc =  \"\\\\csc\" (l_paren|l_brace) (expression|variable|constant) (r_paren|r_brace);\n",
    "    func_sec =   \"\\\\sec\" (l_paren|l_brace) (expression|variable|constant) (r_paren|r_brace);\n",
    "    func_cot = \"\\\\cot\" (l_paren|l_brace) (expression|variable|constant) (r_paren|r_brace);\n",
    "\n",
    "   \n",
    "    real \n",
    "        =\n",
    "    |scientific\n",
    "    |float\n",
    "    |integer;\n",
    "    \n",
    "    scientific = /[0-9]*\\.*[0-9]+[eEdD][+-]?[0-9]+/ ;\n",
    "    \n",
    "    float = /[0-9]*.[0-9]+/\n",
    "    ;\n",
    "    \n",
    "    integer  = /\\d+/\n",
    "    ;\n",
    "    \n",
    "\"\"\""
   ]
  },
  {
   "cell_type": "code",
   "execution_count": 14,
   "metadata": {},
   "outputs": [],
   "source": [
    "\n",
    "import tatsu\n",
    "from tatsu.util import asjson\n",
    "\n",
    "def valid_expression(expression):\n",
    "    try:\n",
    "        print(expression)\n",
    "        #grammar = open(\"grammars/calc.ebnf\").read()\n",
    "        parser = tatsu.compile(GRAMMAR)\n",
    "        ast = parser.parse(expression)\n",
    "        return ast\n",
    "    except Exception as e:\n",
    "        print(e)\n",
    "        return False\n",
    "\n",
    "\n",
    "\n",
    "def parse_expression(expression):\n",
    "    # if expression is valid, return ast\n",
    "    ast = valid_expression(expression)\n",
    "    if ast:\n",
    "        import pprint\n",
    "        # pprint.pprint(ast, indent=2, width=20)\n",
    "        #data = json.dumps(asjson(pprint.pprint(ast,indent=2, width=20)))\n",
    "        data = json.dumps(asjson(ast), indent=2) \n",
    "        #store_results(data)\n",
    "        return data\n",
    "    return None\n"
   ]
  },
  {
   "cell_type": "code",
   "execution_count": 15,
   "metadata": {},
   "outputs": [
    {
     "name": "stdout",
     "output_type": "stream",
     "text": [
      "\\log(1 + 1)\n"
     ]
    },
    {
     "data": {
      "text/plain": [
       "['\\\\log', '(', '1', '+', '1', ')']"
      ]
     },
     "execution_count": 15,
     "metadata": {},
     "output_type": "execute_result"
    }
   ],
   "source": [
    "valid_expression('\\\\log(1 + 1)')"
   ]
  },
  {
   "cell_type": "code",
   "execution_count": null,
   "metadata": {},
   "outputs": [],
   "source": []
  }
 ],
 "metadata": {
  "kernelspec": {
   "display_name": "Python 3",
   "language": "python",
   "name": "python3"
  },
  "language_info": {
   "codemirror_mode": {
    "name": "ipython",
    "version": 3
   },
   "file_extension": ".py",
   "mimetype": "text/x-python",
   "name": "python",
   "nbconvert_exporter": "python",
   "pygments_lexer": "ipython3",
   "version": "3.7.3"
  }
 },
 "nbformat": 4,
 "nbformat_minor": 4
}
